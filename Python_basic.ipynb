{
  "nbformat": 4,
  "nbformat_minor": 0,
  "metadata": {
    "colab": {
      "name": "Python_basic.ipynb",
      "provenance": [],
      "collapsed_sections": [],
      "authorship_tag": "ABX9TyPNssS/1i4zFf3w0RKxQYYb",
      "include_colab_link": true
    },
    "kernelspec": {
      "name": "python3",
      "display_name": "Python 3"
    }
  },
  "cells": [
    {
      "cell_type": "markdown",
      "metadata": {
        "id": "view-in-github",
        "colab_type": "text"
      },
      "source": [
        "<a href=\"https://colab.research.google.com/github/tejas18691/Paython_Basics_with_Tic-Tac-Tow/blob/master/Python_basic.ipynb\" target=\"_parent\"><img src=\"https://colab.research.google.com/assets/colab-badge.svg\" alt=\"Open In Colab\"/></a>"
      ]
    },
    {
      "cell_type": "code",
      "metadata": {
        "id": "S_CKLf9OdxLN",
        "colab_type": "code",
        "colab": {}
      },
      "source": [
        "import os\n",
        "import pandas as pd"
      ],
      "execution_count": 0,
      "outputs": []
    },
    {
      "cell_type": "code",
      "metadata": {
        "id": "IXQa9s8IeNOT",
        "colab_type": "code",
        "outputId": "0b50b572-60f9-4a04-df9c-72c8823b2c67",
        "colab": {
          "base_uri": "https://localhost:8080/",
          "height": 204
        }
      },
      "source": [
        "# ----------------String library used-------#\n",
        "str=\"Hello World!\"\n",
        "print (str)\n",
        "print (str[2:5])\n",
        "print (str*2)\n",
        "print (str + \"This is my first Python code\")\n",
        "print (str[-5:-2])\n",
        "print (str.strip())\n",
        "print (len(str))\n",
        "print (str.lower())\n",
        "print (str.upper())\n",
        "print (str.replace(\"World\",\"Tejasvi\"))\n",
        "print (str.split(\",\"))"
      ],
      "execution_count": 0,
      "outputs": [
        {
          "output_type": "stream",
          "text": [
            "Hello World!\n",
            "llo\n",
            "Hello World!Hello World!\n",
            "Hello World!This is my first Python code\n",
            "orl\n",
            "Hello World!\n",
            "12\n",
            "hello world!\n",
            "HELLO WORLD!\n",
            "Hello Tejasvi!\n",
            "['Hello World!']\n"
          ],
          "name": "stdout"
        }
      ]
    },
    {
      "cell_type": "code",
      "metadata": {
        "id": "wTyKjoK7Rvrk",
        "colab_type": "code",
        "outputId": "8038560b-b7b9-461a-eb7f-2bfc12db0205",
        "colab": {
          "base_uri": "https://localhost:8080/",
          "height": 34
        }
      },
      "source": [
        "a = \"The rain in Spain stays mainly in the plain\"\n",
        "x= \"ain\" in a\n",
        "print(x)\n"
      ],
      "execution_count": 0,
      "outputs": [
        {
          "output_type": "stream",
          "text": [
            "True\n"
          ],
          "name": "stdout"
        }
      ]
    },
    {
      "cell_type": "code",
      "metadata": {
        "id": "5jymveLEWJR1",
        "colab_type": "code",
        "outputId": "6b0bdfd8-827b-4610-e938-7d365a39635d",
        "colab": {
          "base_uri": "https://localhost:8080/",
          "height": 34
        }
      },
      "source": [
        "a= \"The rain in Spain stays mainly in the plain\"\n",
        "x= \"ain\" not in a\n",
        "print(x)"
      ],
      "execution_count": 0,
      "outputs": [
        {
          "output_type": "stream",
          "text": [
            "False\n"
          ],
          "name": "stdout"
        }
      ]
    },
    {
      "cell_type": "code",
      "metadata": {
        "id": "x9pVaARiW0Ml",
        "colab_type": "code",
        "outputId": "31304432-9009-415e-86c8-cdc4bf3c79c1",
        "colab": {
          "base_uri": "https://localhost:8080/",
          "height": 34
        }
      },
      "source": [
        "a= \"Hello\"\n",
        "b=\"World!\"\n",
        "#---c=a+b----#\n",
        "c=a+\" \"+b\n",
        "print(c)"
      ],
      "execution_count": 0,
      "outputs": [
        {
          "output_type": "stream",
          "text": [
            "Hello World!\n"
          ],
          "name": "stdout"
        }
      ]
    },
    {
      "cell_type": "code",
      "metadata": {
        "id": "FEp-ZbtvXPmg",
        "colab_type": "code",
        "outputId": "5cd4888f-6bac-4c6e-915c-7e667fd4d1d3",
        "colab": {
          "base_uri": "https://localhost:8080/",
          "height": 34
        }
      },
      "source": [
        "# age=29\n",
        "# str=\"My name is Tejasvi, and I am {} years old.\"\n",
        "# print(str.format(age))\n",
        "\n",
        "qty=3\n",
        "itemno=24\n",
        "amount=4600\n",
        "str=\"I want {} boxes of item {} for {} rupees.\"\n",
        "print(str.format(qty, itemno, amount))\n"
      ],
      "execution_count": 0,
      "outputs": [
        {
          "output_type": "stream",
          "text": [
            "I want 3 boxes of item 24 for 4600 rupees.\n"
          ],
          "name": "stdout"
        }
      ]
    },
    {
      "cell_type": "code",
      "metadata": {
        "id": "acSWB2joYhTO",
        "colab_type": "code",
        "colab": {}
      },
      "source": [
        "thislist = [\"apple\", \"banana\", \"cherry\",\"orange\", \"kiwi\", \"melon\", \"mango\"]\n",
        "#-----print(thislist)\n",
        "#-----print(thislist[1])\n",
        "#-----print(thislist[-1])\n",
        "#-----print(thislist[2:5])\n",
        "#-----print(thislist[:5])\n",
        "#-----print(thislist[2:])\n",
        "#Change item value\n",
        "#thislist[1]=\"blackcurrent\"\n",
        "#print(thislist)\n",
        "\n",
        "# Loop thru a list\n",
        "#for x in thislist:\n",
        "#  print(x)\n",
        "\n",
        "#------- check the item in the list----\n",
        "if \"apple\" in thislist:\n",
        "  print(\"Yes, apple is in the list\")\n",
        "\n",
        "#--------------- length of list -----------\n",
        "print(len(thislist))\n",
        "\n",
        "#-------------- add an item----------\n",
        "thislist.append(\"watermelon\")\n",
        "print(thislist)\n"
      ],
      "execution_count": 0,
      "outputs": []
    },
    {
      "cell_type": "code",
      "metadata": {
        "id": "QvuwXBEB7kF9",
        "colab_type": "code",
        "outputId": "062ece70-b5af-4b57-8b9e-4a47fea9bafa",
        "colab": {
          "base_uri": "https://localhost:8080/",
          "height": 34
        }
      },
      "source": [
        "list1 =  [\"a\", \"b\", \"c\"]\n",
        "list2 = [1,2,3]\n",
        "list3= list1+list2\n",
        "print(list3)"
      ],
      "execution_count": 0,
      "outputs": [
        {
          "output_type": "stream",
          "text": [
            "['a', 'b', 'c', 1, 2, 3]\n"
          ],
          "name": "stdout"
        }
      ]
    },
    {
      "cell_type": "code",
      "metadata": {
        "id": "aCw0JlMj74OM",
        "colab_type": "code",
        "outputId": "5e2e4535-aa88-49d6-e4d8-870da5767273",
        "colab": {
          "base_uri": "https://localhost:8080/",
          "height": 68
        }
      },
      "source": [
        "list1 = [\"a\", \"b\", \"c\"]\n",
        "list2 = [1, 2,3]\n",
        "for x in list2:\n",
        "  list1.append(x)\n",
        "  print(list1)"
      ],
      "execution_count": 0,
      "outputs": [
        {
          "output_type": "stream",
          "text": [
            "['a', 'b', 'c', 1]\n",
            "['a', 'b', 'c', 1, 2]\n",
            "['a', 'b', 'c', 1, 2, 3]\n"
          ],
          "name": "stdout"
        }
      ]
    },
    {
      "cell_type": "markdown",
      "metadata": {
        "id": "4xjBymSB6769",
        "colab_type": "text"
      },
      "source": [
        "Code for Tuples"
      ]
    },
    {
      "cell_type": "code",
      "metadata": {
        "id": "JeHRr6gZ7ABm",
        "colab_type": "code",
        "outputId": "34254cbf-f4af-4398-d101-d0f9d432937f",
        "colab": {
          "base_uri": "https://localhost:8080/",
          "height": 34
        }
      },
      "source": [
        "thistuple = (\"apple\", \"watermelon\", \"kiwi\", \"litchi\", \"banana\")\n",
        "print(thistuple)"
      ],
      "execution_count": 0,
      "outputs": [
        {
          "output_type": "stream",
          "text": [
            "('apple', 'watermelon', 'kiwi', 'litchi', 'banana')\n"
          ],
          "name": "stdout"
        }
      ]
    },
    {
      "cell_type": "code",
      "metadata": {
        "id": "4LdQUZSF8YED",
        "colab_type": "code",
        "outputId": "d2310bd3-dfa1-4705-f36b-b88da98a9f45",
        "colab": {
          "base_uri": "https://localhost:8080/",
          "height": 85
        }
      },
      "source": [
        "#--------------- All methode code same as list\n",
        "\n",
        "\n",
        "thistuple = (\"apple\", \"watermelon\", \"kiwi\", \"litchi\", \"banana\", \"cherry\", \"mango\")\n",
        "print(thistuple[1])             #acces tuple item\n",
        "print(thistuple[-1])            #Negative index\n",
        "print(thistuple[2:5])           #Range of index\n",
        "print(thistuple[-5:-1])         #Nagative range"
      ],
      "execution_count": 0,
      "outputs": [
        {
          "output_type": "stream",
          "text": [
            "watermelon\n",
            "mango\n",
            "('kiwi', 'litchi', 'banana')\n",
            "('kiwi', 'litchi', 'banana', 'cherry')\n"
          ],
          "name": "stdout"
        }
      ]
    },
    {
      "cell_type": "code",
      "metadata": {
        "id": "gt1uhPO39hY_",
        "colab_type": "code",
        "outputId": "8ef1c01b-474b-4cfc-fb82-57b9d6b32e3f",
        "colab": {
          "base_uri": "https://localhost:8080/",
          "height": 34
        }
      },
      "source": [
        "#----------------Convert the tuple into a list to be able to change it\n",
        "\n",
        "x = (\"apple\", \"watermelon\", \"kiwi\", \"litchi\", \"banana\", \"cherry\", \"mango\")\n",
        "y = list(x)\n",
        "y[1] = \"kiwi\"\n",
        "x = tuple(y)\n",
        "\n",
        "print(x)"
      ],
      "execution_count": 0,
      "outputs": [
        {
          "output_type": "stream",
          "text": [
            "('apple', 'kiwi', 'kiwi', 'litchi', 'banana', 'cherry', 'mango')\n"
          ],
          "name": "stdout"
        }
      ]
    },
    {
      "cell_type": "code",
      "metadata": {
        "id": "JpU250GO9yf_",
        "colab_type": "code",
        "outputId": "a5885df4-5ad2-457c-8740-02434f7d37bc",
        "colab": {
          "base_uri": "https://localhost:8080/",
          "height": 136
        }
      },
      "source": [
        "#--------------------Loop thru a tuple\n",
        "\n",
        "thistuple=(\"apple\", \"watermelon\", \"kiwi\", \"litchi\", \"banana\", \"cherry\", \"mango\")\n",
        "for i in thistuple:\n",
        "  print(i)"
      ],
      "execution_count": 0,
      "outputs": [
        {
          "output_type": "stream",
          "text": [
            "apple\n",
            "watermelon\n",
            "kiwi\n",
            "litchi\n",
            "banana\n",
            "cherry\n",
            "mango\n"
          ],
          "name": "stdout"
        }
      ]
    },
    {
      "cell_type": "code",
      "metadata": {
        "id": "ESwwnIfb-GiE",
        "colab_type": "code",
        "outputId": "47d36fd6-6197-4cd0-8ace-0ab5e76dd18b",
        "colab": {
          "base_uri": "https://localhost:8080/",
          "height": 34
        }
      },
      "source": [
        "#-------------------Looking for a existing item in tuple\n",
        "\n",
        "thistuple= (\"apple\", \"watermelon\", \"kiwi\", \"litchi\", \"banana\", \"cherry\", \"mango\")\n",
        "if \"apple\" in thistuple:\n",
        "  print(\"Yes, 'apple' in the tuple\")"
      ],
      "execution_count": 0,
      "outputs": [
        {
          "output_type": "stream",
          "text": [
            "Yes, 'apple' in the tuple\n"
          ],
          "name": "stdout"
        }
      ]
    },
    {
      "cell_type": "code",
      "metadata": {
        "id": "xtuHj8kN-Yqj",
        "colab_type": "code",
        "outputId": "f2df87bc-baf8-49e5-f22e-618338965035",
        "colab": {
          "base_uri": "https://localhost:8080/",
          "height": 34
        }
      },
      "source": [
        "#---------------- length of tuple\n",
        "\n",
        "thistuple=(\"apple\", \"watermelon\", \"kiwi\", \"litchi\", \"banana\", \"cherry\", \"mango\")\n",
        "print(len(thistuple))"
      ],
      "execution_count": 0,
      "outputs": [
        {
          "output_type": "stream",
          "text": [
            "7\n"
          ],
          "name": "stdout"
        }
      ]
    },
    {
      "cell_type": "code",
      "metadata": {
        "id": "KOjcugC5-rwM",
        "colab_type": "code",
        "outputId": "7f51a6cd-0d5c-474f-cc25-26ed34922e48",
        "colab": {
          "base_uri": "https://localhost:8080/",
          "height": 34
        }
      },
      "source": [
        "#----------------- Join two tuple\n",
        "\n",
        "tuple1 = (\"a\", \"b\", \"c\", \"d\")\n",
        "tuple2 = (1, 2, 3, 4)\n",
        "tuple3 = tuple1 + tuple2\n",
        "print(tuple3)"
      ],
      "execution_count": 0,
      "outputs": [
        {
          "output_type": "stream",
          "text": [
            "('a', 'b', 'c', 'd', 1, 2, 3, 4)\n"
          ],
          "name": "stdout"
        }
      ]
    },
    {
      "cell_type": "markdown",
      "metadata": {
        "colab_type": "text",
        "id": "jBDE5awWz-mr"
      },
      "source": [
        "**Conditional Statement**"
      ]
    },
    {
      "cell_type": "code",
      "metadata": {
        "id": "TxINKCph_KWF",
        "colab_type": "code",
        "outputId": "086fd8c4-3def-4d50-9f9b-d36a317dcdee",
        "colab": {
          "base_uri": "https://localhost:8080/",
          "height": 34
        }
      },
      "source": [
        "a = 233\n",
        "b = 75\n",
        "if a > b :\n",
        "  print(\"a is greater than b\") "
      ],
      "execution_count": 0,
      "outputs": [
        {
          "output_type": "stream",
          "text": [
            "a is greater than b\n"
          ],
          "name": "stdout"
        }
      ]
    },
    {
      "cell_type": "code",
      "metadata": {
        "id": "t6EOP0kO1RAB",
        "colab_type": "code",
        "outputId": "8929022a-8c7d-4e48-c558-b5e817285ace",
        "colab": {
          "base_uri": "https://localhost:8080/",
          "height": 34
        }
      },
      "source": [
        "a = 200\n",
        "b = 33\n",
        "if b > a:\n",
        "  print(\"b is greater than a\")\n",
        "elif a == b:\n",
        "  print(\"a and b are equal\")\n",
        "else:\n",
        "  print(\"a is greater than b\")"
      ],
      "execution_count": 0,
      "outputs": [
        {
          "output_type": "stream",
          "text": [
            "a is greater than b\n"
          ],
          "name": "stdout"
        }
      ]
    },
    {
      "cell_type": "code",
      "metadata": {
        "id": "bWaXe8pX1k_d",
        "colab_type": "code",
        "outputId": "7de15326-f8ef-4243-dc0e-a47b9011d5be",
        "colab": {
          "base_uri": "https://localhost:8080/",
          "height": 34
        }
      },
      "source": [
        "a = 300\n",
        "b = 250\n",
        "c = 750\n",
        "if a > b and c > a:\n",
        "  print(\"both conditions are true\")"
      ],
      "execution_count": 0,
      "outputs": [
        {
          "output_type": "stream",
          "text": [
            "both conditions are true\n"
          ],
          "name": "stdout"
        }
      ]
    },
    {
      "cell_type": "markdown",
      "metadata": {
        "id": "jsvj2Loi5qeh",
        "colab_type": "text"
      },
      "source": [
        "**Loop Statement Begins**"
      ]
    },
    {
      "cell_type": "code",
      "metadata": {
        "id": "IYwr7nHu2v9t",
        "colab_type": "code",
        "outputId": "afb16985-60b8-4c12-8b79-ae3017a6c79a",
        "colab": {
          "base_uri": "https://localhost:8080/",
          "height": 68
        }
      },
      "source": [
        "i = 1\n",
        "while i < 6:\n",
        "  print(i)\n",
        "  if i == 3:\n",
        "    break\n",
        "  i += 1"
      ],
      "execution_count": 0,
      "outputs": [
        {
          "output_type": "stream",
          "text": [
            "1\n",
            "2\n",
            "3\n"
          ],
          "name": "stdout"
        }
      ]
    },
    {
      "cell_type": "code",
      "metadata": {
        "id": "pINF1ENJ6MsT",
        "colab_type": "code",
        "outputId": "33de2ec8-ee7c-4eef-df6d-163682bf772c",
        "colab": {
          "base_uri": "https://localhost:8080/",
          "height": 187
        }
      },
      "source": [
        "#--------------------- print sum of natural nos\n",
        "n = 10\n",
        "sum = 0\n",
        "i = 1\n",
        "while i<=n:\n",
        "  sum=sum + i\n",
        "  i=i+1\n",
        "  print(\"the sum is\", sum)\n"
      ],
      "execution_count": 0,
      "outputs": [
        {
          "output_type": "stream",
          "text": [
            "the sum is 1\n",
            "the sum is 3\n",
            "the sum is 6\n",
            "the sum is 10\n",
            "the sum is 15\n",
            "the sum is 21\n",
            "the sum is 28\n",
            "the sum is 36\n",
            "the sum is 45\n",
            "the sum is 55\n"
          ],
          "name": "stdout"
        }
      ]
    },
    {
      "cell_type": "markdown",
      "metadata": {
        "id": "vREK-JyiyFhs",
        "colab_type": "text"
      },
      "source": [
        "**For Loop**"
      ]
    },
    {
      "cell_type": "code",
      "metadata": {
        "id": "5c4EAAbSyOfZ",
        "colab_type": "code",
        "colab": {}
      },
      "source": [
        "fruits =[\"apples\",\"banana\",\"cherry\",\"kiwi\",\"mango\"]\n",
        "for x in fruits:\n",
        "  print(x)"
      ],
      "execution_count": 0,
      "outputs": []
    },
    {
      "cell_type": "code",
      "metadata": {
        "id": "qm0UkljkyOtr",
        "colab_type": "code",
        "outputId": "17d901fe-0d7c-4b50-85c4-717a293d6a4b",
        "colab": {
          "base_uri": "https://localhost:8080/",
          "height": 34
        }
      },
      "source": [
        "# Program to find the sum of all numbers stored in a list\n",
        "\n",
        "# List of numbers\n",
        "numbers = [6, 5, 3, 8, 4, 2, 5, 4, 11]\n",
        "\n",
        "# variable to store the sum\n",
        "sum = 0\n",
        "\n",
        "# iterate over the list\n",
        "for val in numbers:\n",
        "\tsum = sum+val\n",
        "\n",
        "print(\"The sum is\", sum)"
      ],
      "execution_count": 0,
      "outputs": [
        {
          "output_type": "stream",
          "text": [
            "The sum is 48\n"
          ],
          "name": "stdout"
        }
      ]
    },
    {
      "cell_type": "code",
      "metadata": {
        "id": "4P3n5BGR2SS1",
        "colab_type": "code",
        "colab": {}
      },
      "source": [
        "# Program to check if a number is prime or not\n",
        "\n",
        "#num = 407\n",
        "\n",
        "# To take input from the user\n",
        "num = int(input(\"Enter a number: \"))\n",
        "\n",
        "# prime numbers are greater than 1\n",
        "if num > 1:\n",
        "   # check for factors\n",
        "   for i in range(2,num):\n",
        "       if (num % i) == 0:\n",
        "           print(num,\"is not a prime number\")\n",
        "           print(i,\"times\",num//i,\"is\",num)\n",
        "           break\n",
        "   else:\n",
        "       print(num,\"is a prime number\")\n",
        "       \n",
        "# if input number is less than\n",
        "# or equal to 1, it is not prime\n",
        "else:\n",
        "   print(num,\"is not a prime number\")"
      ],
      "execution_count": 0,
      "outputs": []
    },
    {
      "cell_type": "code",
      "metadata": {
        "id": "hR8lZd2h38HX",
        "colab_type": "code",
        "colab": {}
      },
      "source": [
        "# Print all prime number with in the interval\n",
        "lower = 900\n",
        "upper = 1000\n",
        "\n",
        "print(\"Prime numbers between\", lower, \"and\", upper, \"are:\")\n",
        "\n",
        "for num in range(lower, upper + 1):\n",
        "   # all prime numbers are greater than 1\n",
        "   if num > 1:\n",
        "       for i in range(2, num):\n",
        "           if (num % i) == 0:\n",
        "               break\n",
        "       else:\n",
        "           print(num)"
      ],
      "execution_count": 0,
      "outputs": []
    },
    {
      "cell_type": "code",
      "metadata": {
        "id": "2wGEd3rj7LFf",
        "colab_type": "code",
        "colab": {}
      },
      "source": [
        "# Program to find the factorial of a number\n",
        "\n",
        "num = int(input(\"Enter the number:\"))\n",
        "\n",
        "factorial=1\n",
        "if num < 0:\n",
        "  print(\"Sorry, factorial does not exist for negative numbers\")\n",
        "elif num == 0:\n",
        "  print(\"The factoiral of 0 is 1\")\n",
        "else:\n",
        "    for i in range(1,num + 1):\n",
        "      factorial = factorial *i\n",
        "    print(\"The factorial of\",num,\"is\",factorial)"
      ],
      "execution_count": 0,
      "outputs": []
    },
    {
      "cell_type": "code",
      "metadata": {
        "id": "iheTX4xd9P2w",
        "colab_type": "code",
        "colab": {}
      },
      "source": [
        "# Program to print table\n",
        "\n",
        "num=int(input(\"Enter the number\"))\n",
        "for i in range(1,11):\n",
        "  print(num, 'x',i,'=',num*i)"
      ],
      "execution_count": 0,
      "outputs": []
    },
    {
      "cell_type": "code",
      "metadata": {
        "id": "Y626u2dMCsoG",
        "colab_type": "code",
        "colab": {}
      },
      "source": [
        "# Function to demonstrate printing pattern \n",
        "def pypart(n): \n",
        "      \n",
        "    # outer loop to handle number of rows \n",
        "    # n in this case \n",
        "    for i in range(0, n): \n",
        "        for j in range(0, i+1): \n",
        "          \n",
        "            # printing stars \n",
        "            print(\"* \",end=\"\") \n",
        "       \n",
        "        # ending line after each row \n",
        "        print(\"\\r\") \n",
        "  \n",
        "# Driver Code \n",
        "n = 5\n",
        "pypart(n)"
      ],
      "execution_count": 0,
      "outputs": []
    },
    {
      "cell_type": "code",
      "metadata": {
        "id": "UKdRmKQDznOY",
        "colab_type": "code",
        "colab": {}
      },
      "source": [
        "# Program to print pyramid pattern\n",
        "\n",
        "def pattern(n): \n",
        "     \n",
        "    # For printing the upper part of pyramid \n",
        "    for i in range (1, n+1): \n",
        "        for j in range (1, i+1): \n",
        "            print ( \"*\")\n",
        "      \n",
        "    # for printing the middle and lower part of pyramid \n",
        "    for i in range (n, 1, -1): \n",
        "        for j in range (i, 1, -1): \n",
        "            print (\" * \" )\n",
        "\n",
        "pattern(6)"
      ],
      "execution_count": 0,
      "outputs": []
    },
    {
      "cell_type": "code",
      "metadata": {
        "id": "Tiz3LtyM5APu",
        "colab_type": "code",
        "colab": {}
      },
      "source": [
        "def printPattern(n): \n",
        "  \n",
        "    # Printing upper part \n",
        "    for i in range(n+1):  \n",
        "      \n",
        "        for j in range(1,i+1): \n",
        "            print(i,end=\"\")         \n",
        "        print(\"\") \n",
        "      \n",
        "    # printing lower part \n",
        "    for i in range(n - 1,0,-1):  \n",
        "      \n",
        "        for j in range(i,0,-1):  \n",
        "            print(i,end=\"\")         \n",
        "        print(\"\") \n",
        "  \n",
        "# driver code \n",
        "\n",
        "n = 8\n",
        "printPattern(n) "
      ],
      "execution_count": 0,
      "outputs": []
    },
    {
      "cell_type": "code",
      "metadata": {
        "id": "50Q2V9deN6yd",
        "colab_type": "code",
        "colab": {}
      },
      "source": [
        "game=[[0,0,0],\n",
        "      [0,0,0],\n",
        "      [0,0,0],]\n",
        "def game_board():\n",
        "  print(\"   0  1  2\")\n",
        "  for count, row in enumerate(game):\n",
        "      print(count,row)\n",
        "\n",
        "game_board()\n",
        "\n",
        "game[0][1]=1\n",
        "\n",
        "game_board()"
      ],
      "execution_count": 0,
      "outputs": []
    },
    {
      "cell_type": "markdown",
      "metadata": {
        "id": "51N-HEAELuWW",
        "colab_type": "text"
      },
      "source": [
        "# **Tic Tac Toe Game**"
      ]
    },
    {
      "cell_type": "code",
      "metadata": {
        "id": "4BuznRIjL0QD",
        "colab_type": "code",
        "colab": {}
      },
      "source": [
        "def play_game(game_map, player = 0, row = 0, column = 0, show_game = False):\n",
        "    try:\n",
        "        #To check if the position has been played already\n",
        "        if game_map[row][column] !=0:\n",
        "            print(f\"Position already played. Choose another. \")\n",
        "            return game_map, False\n",
        "        #Display column numbers\n",
        "        print(\"   \"+\"  \".join([str(i) for i in range(len(game_map))]))\n",
        "        if not show_game:\n",
        "            game_map[row][column] = player\n",
        "        #Display row number\n",
        "        for count, row in enumerate(game_map):\n",
        "            print(count, row)\n",
        "        return game_map, True\n",
        "\n",
        "    except IndexError as e:\n",
        "        print(f\"Enter only {list(range(game_size))} row and column choices.\", e)\n",
        "        return game_map, False\n",
        "\n",
        "    except Exception as e:\n",
        "        print(f\"Something went wrong\", e)\n",
        "        return game_map, False\n",
        "\n",
        "def game_logic(game_map):\n",
        "    #Check for identical items in the list\n",
        "    def same_item_check(l):\n",
        "        if l.count(l[0]) == len(l) and l[0] != 0:\n",
        "            return True\n",
        "        else:\n",
        "            return False\n",
        "\n",
        "    for row in game_map:\n",
        "        if same_item_check(row):\n",
        "            print(f\"Winner! Player {row[0]} wins horizontally!!!\")\n",
        "            return True\n",
        "    for col in range(len(game_map)):\n",
        "        col_check = []\n",
        "        for row in game_map:\n",
        "            col_check.append(row[col])\n",
        "        if same_item_check(col_check):\n",
        "            print(f\"Winner! Player {col_check[0]} wins vertically!!!\")\n",
        "            return True\n",
        "    diags = []\n",
        "    #diagonal check\n",
        "    for ix in range(len(game_map)):\n",
        "        diags.append(game_map[ix][ix])\n",
        "    if same_item_check(diags):\n",
        "        print(f\"Winner! Player {diags[0]} wins diagonally! (\\\\)\")\n",
        "        return True\n",
        "    diags_reversed = []\n",
        "    rows = range(len(game_map))    \n",
        "    cols = reversed(range(len(game_map)))\n",
        "    #reverse diagonal check\n",
        "    for x, iy in zip(rows, cols):\n",
        "        diags_reversed.append(game_map[x][iy])\n",
        "    if same_item_check(diags_reversed):\n",
        "        print(f\"Winner! Player {diags_reversed[0]} wins reverse diagonally! (/)\")\n",
        "        return True\n",
        "    return False\n",
        "    \n",
        "current_game_active = True\n",
        "while current_game_active: \n",
        "    game_size = int(input(\"Enter the size of game you\\'d like to play?Value must be above 1!: \"))\n",
        "    game_board = [[0 for i in range(game_size)] for i in range(game_size)]\n",
        "    game_won = False\n",
        "    print(f\"\\nGame board looks like this: \")\n",
        "    game_board, _ = play_game(game_board,show_game=True)\n",
        "    players = itertools.cycle(list(range(1,game_size)))   \n",
        "    while not game_won:\n",
        "        current_player = next(players)\n",
        "        print(f\"Current player: {current_player}\")\n",
        "        status = False\n",
        "        while not status:\n",
        "            row_choice = int(input(f\"Which row would you like to play? Enter only {list(range(game_size))}: \"))\n",
        "            col_choice = int(input(f\"Which column would you like to play? Enter only {list(range(game_size))}: \"))\n",
        "            game_board, status = play_game(game_board, current_player, row_choice, col_choice)\n",
        "        if game_logic(game_board):\n",
        "            game_won = True\n",
        "            play_again = input(\"The game is over. Would you like to play again?(y/n) \")\n",
        "            if play_again.lower() == 'y':\n",
        "                print(\"Restarting...\")\n",
        "            elif play_again.lower() == 'n':\n",
        "                print(\"Bye!\")\n",
        "                current_game_active = False\n",
        "            else:\n",
        "                print(\"Input only 'y' or 'n'. Exiting... \")\n",
        "                current_game_active = False"
      ],
      "execution_count": 0,
      "outputs": []
    }
  ]
}